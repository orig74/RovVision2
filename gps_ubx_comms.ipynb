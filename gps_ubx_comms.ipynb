{
 "cells": [
  {
   "cell_type": "code",
   "execution_count": 13,
   "id": "98f68dcd-b15d-4afd-b0b4-a3e39d492dac",
   "metadata": {},
   "outputs": [
    {
     "name": "stdout",
     "output_type": "stream",
     "text": [
      "{'_immutable': True, '_mode': 0, '_payload': b'\\x06\\x03\\x00\\x0c\\x04\\x0c\\x02\\x00\\xe4*\\xb4E\\x8c\\xa1\\xd0\\xd5\\x00 $\\x1c\\x05\\x00\\x95\\t', '_length': b'\\x18\\x00', '_checksum': b'0\\x84', '_parsebf': 1, '_scaling': 1, '_ubxClass': b'\\x02', '_ubxID': b'\\x13', 'gnssId': 6, 'svId': 3, 'reserved0': 0, 'freqId': 12, 'numWords': 4, 'chn': 12, 'version': 2, 'reserved1': 0, 'dwrd_01': 1169435364, 'dwrd_02': 3587219852, 'dwrd_03': 472129536, 'dwrd_04': 160759813} RXM-SFRBX\n"
     ]
    }
   ],
   "source": [
    "from pyubx2 import UBXReader\n",
    "from serial import Serial\n",
    "\n",
    "UBX_MSG_IDs = {'NAV-HPPOSLLH': {'class': b'\\x01', 'id': b'\\x014'}}\n",
    "\n",
    "def is_ubx_msg_this_type(msg_name, ubr_msg):\n",
    "    \"\"\"Check if the message represented by ubr_obj is of the type specified by msg_name\"\"\"\n",
    "    \n",
    "    return ubr_msg.identity == msg_name\n",
    "    \n",
    "\n",
    "def print_curr_iTOW(ubr_msg):\n",
    "    \"\"\"Prints the current integer time of week from the UBX GPS message\"\"\"\n",
    "    \n",
    "    if is_ubx_msg_this_type('NAV-HPPOSLLH', ubr_msg):\n",
    "        print(f\"iTOW: {ubr_msg.iTOW / 1e3} sec \")\n",
    "        print(ubr_msg.__dict__)\n",
    "    else:\n",
    "        print(f\"Message type was not NAV-HPPOSLLH\")\n",
    "\n",
    "    \n",
    "def print_ubx_msg_attrs(ubr_msg):\n",
    "    \"\"\"Print the message ID, message class, and message mode\"\"\"\n",
    "    \n",
    "    print(f\"Message ID: {ubr_msg.msg_id}\\n\" \\\n",
    "          f\"Message class: {ubr_msg.msg_cls}\\n\" \\\n",
    "          f\"Message mode: {ubr_msg.msgmode}\")\n",
    "    \n",
    "    \n",
    "def print_x_messages_id(ubr_obj, num_msgs):\n",
    "    \"\"\"Prints the ID of the incoming messages to the console, using\n",
    "     the specified number of messages\"\"\"\n",
    "    \n",
    "    for _ in range(num_msgs):\n",
    "        # Read incoming message\n",
    "        parsed_data = ubr_obj.read()[1]\n",
    "        # Obfuscated, but fun, and highly abstracted way of accessing the \n",
    "        # message and UBX IDs of the incoming messages\n",
    "        props = ['msg_id']\n",
    "        local_vars = locals()\n",
    "        for prop in props:\n",
    "            # Access property from parsed data, convert to hex, and store to\n",
    "            # local variables\n",
    "            \n",
    "            # NOTE: Python automtically convert bytes data into ASCII at standard\n",
    "            # output where applicable, so we convert to hex to preserve byte values\n",
    "            local_vars[prop] = getattr(parsed_data, prop).hex()\n",
    "        \n",
    "        prop_texts = [f\"{prop}: 0x{local_vars[prop]}\" for prop in props]\n",
    "        props_summary = ' '.join(prop_texts)\n",
    "        print(props_summary)\n",
    "        \n",
    "\n",
    "if __name__ == \"__main__\":\n",
    "    stream = Serial(\"/dev/serial/by-id/usb-u-blox_AG_-_\" \\\n",
    "                    \"www.u-blox.com_u-blox_GNSS_receiver-if00\", \n",
    "                    9600, timeout=5)\n",
    "    ubr = UBXReader(stream)\n",
    "    msg = ubr.read()[1]\n",
    "    print(msg.__dict__, msg.identity)\n",
    "\n",
    "    # Read latest UBX message and print the current iTOW\n",
    "    # print_curr_iTOW(msg)\n",
    "    \n",
    "    # print_ubx_msg_attrs(msg)\n",
    "    \n",
    "    # print_x_messages_id(ubr, 5)"
   ]
  },
  {
   "cell_type": "code",
   "execution_count": null,
   "id": "6b0c0778-2aee-4f47-9a37-80b5b4a3763d",
   "metadata": {},
   "outputs": [],
   "source": []
  }
 ],
 "metadata": {
  "kernelspec": {
   "display_name": "RovVision2",
   "language": "python",
   "name": "rovvision2"
  },
  "language_info": {
   "codemirror_mode": {
    "name": "ipython",
    "version": 3
   },
   "file_extension": ".py",
   "mimetype": "text/x-python",
   "name": "python",
   "nbconvert_exporter": "python",
   "pygments_lexer": "ipython3",
   "version": "3.8.16"
  }
 },
 "nbformat": 4,
 "nbformat_minor": 5
}