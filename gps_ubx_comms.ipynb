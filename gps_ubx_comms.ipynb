{
 "cells": [
  {
   "cell_type": "code",
   "execution_count": 11,
   "id": "98f68dcd-b15d-4afd-b0b4-a3e39d492dac",
   "metadata": {},
   "outputs": [
    {
     "name": "stdout",
     "output_type": "stream",
     "text": [
      "msg_id: 0x14\n",
      "msg_id: 0x11\n",
      "msg_id: 0x12\n",
      "msg_id: 0x34\n",
      "msg_id: 0x35\n"
     ]
    }
   ],
   "source": [
    "from pyubx2 import UBXReader\n",
    "from serial import Serial\n",
    "\n",
    "UBX_MSG_IDs = {'NAV-HPPOSLLH': {'class': b'\\x01', 'id': b'\\x014'}}\n",
    "\n",
    "def is_ubx_msg_this_type(msg_name, ubr_msg):\n",
    "    \"\"\"Check if the message represented by ubr_obj is of the type specified by msg_name\"\"\"\n",
    "    \n",
    "    return ubr_msg.identity == msg_name\n",
    "    \n",
    "\n",
    "def print_curr_iTOW(ubr_msg):\n",
    "    \"\"\"Prints the current integer time of week from the UBX GPS message\"\"\"\n",
    "    \n",
    "    if is_ubx_msg_this_type('NAV-HPPOSLLH', ubr_msg):\n",
    "        print(f\"iTOW: {ubr_msg.iTOW / 1e3} sec \")\n",
    "    else:\n",
    "        print(f\"Message type was not NAV-HPPOSLLH\")\n",
    "\n",
    "    \n",
    "def print_ubx_msg_attrs(ubr_msg):\n",
    "    \"\"\"Print the message ID, message class, and message mode\"\"\"\n",
    "    \n",
    "    print(f\"Message ID: {ubr_msg.msg_id}\\n\" \\\n",
    "          f\"Message class: {ubr_msg.msg_cls}\\n\" \\\n",
    "          f\"Message mode: {ubr_msg.msgmode}\")\n",
    "    \n",
    "    \n",
    "def print_x_messages_id(ubr_obj, num_msgs):\n",
    "    \"\"\"Prints the ID of the incoming messages to the console, using\n",
    "     the specified number of messages\"\"\"\n",
    "    \n",
    "    for _ in range(num_msgs):\n",
    "        # Read incoming message\n",
    "        parsed_data = ubr_obj.read()[1]\n",
    "        # Obfuscated, but fun, and highly abstracted way of accessing the \n",
    "        # message and UBX IDs of the incoming messages\n",
    "        props = ['msg_id']\n",
    "        local_vars = locals()\n",
    "        for prop in props:\n",
    "            # Access property from parsed data, convert to hex, and store to\n",
    "            # local variables\n",
    "            \n",
    "            # NOTE: Python automtically convert bytes data into ASCII at standard\n",
    "            # output where applicable, so we convert to hex to preserve byte values\n",
    "            local_vars[prop] = getattr(parsed_data, prop).hex()\n",
    "        \n",
    "        prop_texts = [f\"{prop}: 0x{local_vars[prop]}\" for prop in props]\n",
    "        props_summary = ' '.join(prop_texts)\n",
    "        print(props_summary)\n",
    "\n",
    "if __name__ == \"__main__\":\n",
    "    stream = Serial(\"/dev/serial/by-id/usb-u-blox_AG_-_\" \\\n",
    "                    \"www.u-blox.com_u-blox_GNSS_receiver-if00\", \n",
    "                    9600, timeout=5)\n",
    "    ubr = UBXReader(stream)\n",
    "    msg = ubr.read()[1]\n",
    "\n",
    "    # Read latest UBX message and print the current iTOW\n",
    "    # print_curr_iTOW(msg)\n",
    "    \n",
    "    # print_ubx_msg_attrs(msg)\n",
    "    \n",
    "    print_x_messages_id(ubr, 5)"
   ]
  },
  {
   "cell_type": "code",
   "execution_count": null,
   "id": "f5121e4d-d3e2-4b21-838a-8d114eebb8aa",
   "metadata": {},
   "outputs": [],
   "source": []
  }
 ],
 "metadata": {
  "kernelspec": {
   "display_name": "RovVision2",
   "language": "python",
   "name": "rovvision2"
  },
  "language_info": {
   "codemirror_mode": {
    "name": "ipython",
    "version": 3
   },
   "file_extension": ".py",
   "mimetype": "text/x-python",
   "name": "python",
   "nbconvert_exporter": "python",
   "pygments_lexer": "ipython3",
   "version": "3.8.16"
  }
 },
 "nbformat": 4,
 "nbformat_minor": 5
}
