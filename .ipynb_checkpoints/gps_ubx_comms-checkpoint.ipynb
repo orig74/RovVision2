{
 "cells": [
  {
   "cell_type": "code",
   "execution_count": 9,
   "id": "98f68dcd-b15d-4afd-b0b4-a3e39d492dac",
   "metadata": {},
   "outputs": [
    {
     "name": "stdout",
     "output_type": "stream",
     "text": [
      "Message type was not NAV-HPPOSLLH\n",
      "Message ID: b'\\x07'\n",
      "Message class: b'\\x01'\n",
      "Message mode: 0\n"
     ]
    },
    {
     "ename": "AttributeError",
     "evalue": "'UBXReader' object has no attribute 'msg_id'",
     "output_type": "error",
     "traceback": [
      "\u001b[0;31m---------------------------------------------------------------------------\u001b[0m",
      "\u001b[0;31mAttributeError\u001b[0m                            Traceback (most recent call last)",
      "Cell \u001b[0;32mIn[9], line 64\u001b[0m\n\u001b[1;32m     60\u001b[0m print_curr_iTOW(msg)\n\u001b[1;32m     62\u001b[0m print_ubx_msg_attrs(msg)\n\u001b[0;32m---> 64\u001b[0m \u001b[43mprint_x_messages_id\u001b[49m\u001b[43m(\u001b[49m\u001b[43mubr\u001b[49m\u001b[43m,\u001b[49m\u001b[43m \u001b[49m\u001b[38;5;241;43m5\u001b[39;49m\u001b[43m)\u001b[49m\n",
      "Cell \u001b[0;32mIn[9], line 46\u001b[0m, in \u001b[0;36mprint_x_messages_id\u001b[0;34m(ubr_obj, num_msgs)\u001b[0m\n\u001b[1;32m     39\u001b[0m local_vars \u001b[38;5;241m=\u001b[39m \u001b[38;5;28mlocals\u001b[39m()\n\u001b[1;32m     40\u001b[0m \u001b[38;5;28;01mfor\u001b[39;00m prop \u001b[38;5;129;01min\u001b[39;00m props:\n\u001b[1;32m     41\u001b[0m     \u001b[38;5;66;03m# Access property from parsed data, convert to hex, and store to\u001b[39;00m\n\u001b[1;32m     42\u001b[0m     \u001b[38;5;66;03m# local variables\u001b[39;00m\n\u001b[1;32m     43\u001b[0m     \n\u001b[1;32m     44\u001b[0m     \u001b[38;5;66;03m# NOTE: Python automtically convert bytes data into ASCII at standard\u001b[39;00m\n\u001b[1;32m     45\u001b[0m     \u001b[38;5;66;03m# output where applicable, so we convert to hex to preserve byte values\u001b[39;00m\n\u001b[0;32m---> 46\u001b[0m     local_vars[prop] \u001b[38;5;241m=\u001b[39m \u001b[38;5;28;43mgetattr\u001b[39;49m\u001b[43m(\u001b[49m\u001b[43mubr_obj\u001b[49m\u001b[43m,\u001b[49m\u001b[43m \u001b[49m\u001b[43mprop\u001b[49m\u001b[43m)\u001b[49m\u001b[38;5;241m.\u001b[39mhex()\n\u001b[1;32m     48\u001b[0m prop_texts \u001b[38;5;241m=\u001b[39m [\u001b[38;5;124mf\u001b[39m\u001b[38;5;124m\"\u001b[39m\u001b[38;5;132;01m{\u001b[39;00mprop\u001b[38;5;132;01m}\u001b[39;00m\u001b[38;5;124m: 0x\u001b[39m\u001b[38;5;132;01m{\u001b[39;00mlocal_vars[prop]\u001b[38;5;132;01m}\u001b[39;00m\u001b[38;5;124m\"\u001b[39m \u001b[38;5;28;01mfor\u001b[39;00m prop \u001b[38;5;129;01min\u001b[39;00m props]\n\u001b[1;32m     49\u001b[0m props_summary \u001b[38;5;241m=\u001b[39m \u001b[38;5;124m'\u001b[39m\u001b[38;5;124m \u001b[39m\u001b[38;5;124m'\u001b[39m\u001b[38;5;241m.\u001b[39mjoin(prop_texts)\n",
      "\u001b[0;31mAttributeError\u001b[0m: 'UBXReader' object has no attribute 'msg_id'"
     ]
    }
   ],
   "source": [
    "from pyubx2 import UBXReader\n",
    "from serial import Serial\n",
    "\n",
    "UBX_MSG_IDs = {'NAV-HPPOSLLH': {'class': b'\\x01', 'id': b'\\x014'}}\n",
    "\n",
    "def is_ubx_msg_this_type(msg_name, ubr_msg):\n",
    "    \"\"\"Check if the message represented by ubr_obj is of the type specified by msg_name\"\"\"\n",
    "    \n",
    "    return ubr_msg.identity == msg_name\n",
    "    \n",
    "\n",
    "def print_curr_iTOW(ubr_msg):\n",
    "    \"\"\"Prints the current integer time of week from the UBX GPS message\"\"\"\n",
    "    \n",
    "    if is_ubx_msg_this_type('NAV-HPPOSLLH', ubr_msg):\n",
    "        print(f\"iTOW: {ubr_msg.iTOW / 1e3} sec \")\n",
    "    else:\n",
    "        print(f\"Message type was not NAV-HPPOSLLH\")\n",
    "\n",
    "    \n",
    "def print_ubx_msg_attrs(ubr_msg):\n",
    "    \"\"\"Print the message ID, message class, and message mode\"\"\"\n",
    "    \n",
    "    print(f\"Message ID: {ubr_msg.msg_id}\\n\" \\\n",
    "          f\"Message class: {ubr_msg.msg_cls}\\n\" \\\n",
    "          f\"Message mode: {ubr_msg.msgmode}\")\n",
    "    \n",
    "    \n",
    "def print_x_messages_id(ubr_obj, num_msgs):\n",
    "    \"\"\"Prints the ID of the incoming messages to the console, using\n",
    "     the specified number of messages\"\"\"\n",
    "    \n",
    "    for _ in range(num_msgs):\n",
    "        # Read incoming message\n",
    "        parsed_data = ubr_obj.read()[1]\n",
    "        # Obfuscated, but fun, and highly abstracted way of accessing the \n",
    "        # message and UBX IDs of the incoming messages\n",
    "        props = ['msg_id']\n",
    "        local_vars = locals()\n",
    "        for prop in props:\n",
    "            # Access property from parsed data, convert to hex, and store to\n",
    "            # local variables\n",
    "            \n",
    "            # NOTE: Python automtically convert bytes data into ASCII at standard\n",
    "            # output where applicable, so we convert to hex to preserve byte values\n",
    "            local_vars[prop] = getattr(parsed_data, prop).hex()\n",
    "        \n",
    "        prop_texts = [f\"{prop}: 0x{local_vars[prop]}\" for prop in props]\n",
    "        props_summary = ' '.join(prop_texts)\n",
    "        print(props_summary)\n",
    "\n",
    "if __name__ == \"__main__\":\n",
    "    stream = Serial(\"/dev/serial/by-id/usb-u-blox_AG_-_\" \\\n",
    "                    \"www.u-blox.com_u-blox_GNSS_receiver-if00\", \n",
    "                    9600, timeout=5)\n",
    "    ubr = UBXReader(stream)\n",
    "    msg = ubr.read()[1]\n",
    "\n",
    "    # Read latest UBX message and print the current iTOW\n",
    "    print_curr_iTOW(msg)\n",
    "    \n",
    "    print_ubx_msg_attrs(msg)\n",
    "    \n",
    "    print_x_messages_id(ubr, 5)"
   ]
  },
  {
   "cell_type": "code",
   "execution_count": null,
   "id": "f5121e4d-d3e2-4b21-838a-8d114eebb8aa",
   "metadata": {},
   "outputs": [],
   "source": []
  }
 ],
 "metadata": {
  "kernelspec": {
   "display_name": "RovVision2",
   "language": "python",
   "name": "rovvision2"
  },
  "language_info": {
   "codemirror_mode": {
    "name": "ipython",
    "version": 3
   },
   "file_extension": ".py",
   "mimetype": "text/x-python",
   "name": "python",
   "nbconvert_exporter": "python",
   "pygments_lexer": "ipython3",
   "version": "3.8.16"
  }
 },
 "nbformat": 4,
 "nbformat_minor": 5
}
