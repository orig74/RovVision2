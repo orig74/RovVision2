{
 "cells": [
  {
   "cell_type": "code",
   "execution_count": null,
   "id": "2b177c87",
   "metadata": {},
   "outputs": [],
   "source": [
    "%matplotlib widget\n",
    "import numpy as np\n",
    "import matplotlib.pyplot as plt\n",
    "import pickle\n",
    "import sys,os\n",
    "import pandas as pd"
   ]
  },
  {
   "cell_type": "code",
   "execution_count": null,
   "id": "987e27b8",
   "metadata": {},
   "outputs": [],
   "source": [
    "hw_path=os.path.abspath('../hw')\n",
    "if hw_path not in sys.path:\n",
    "    sys.path.append(hw_path)\n",
    "from dvl import parse_line"
   ]
  },
  {
   "cell_type": "code",
   "execution_count": null,
   "id": "12da1097",
   "metadata": {},
   "outputs": [],
   "source": [
    "#data_file='../../data/221007-111613/viewer_data.pkl'\n",
    "#data_file='../../data/221004-160135/viewer_data.pkl' #rope in the marina\n",
    "#data_file='../../data/221006-091359/viewer_data.pkl'\n",
    "#data_file='../../data/221006-094629/viewer_data.pkl'\n",
    "#data_file='../../data/221007-090617/viewer_data.pkl'\n",
    "#data_file='../../data/221008-104637/viewer_data.pkl'\n",
    "#data_file='../../data/221008-112305/viewer_data.pkl'\n",
    "#data_file='../../data/221008-113659/viewer_data.pkl'\n",
    "#data_file='../../data/221008-122856/viewer_data.pkl' #grid\n",
    "#data_file='../../data/221008-130346/viewer_data.pkl'\n",
    "data_file='../../data/221008-134439/viewer_data.pkl'\n",
    "\n",
    "#fd=open(data_file,'rb')\n",
    "!ls -all -h $data_file\n",
    "!ls ../../data"
   ]
  },
  {
   "cell_type": "code",
   "execution_count": null,
   "id": "338e4a75",
   "metadata": {},
   "outputs": [],
   "source": [
    "keys=set()\n",
    "dvl_data_raw=[]\n",
    "with open(data_file,'rb') as fd:\n",
    "    while 1:\n",
    "        try:\n",
    "            d=pickle.load(fd)\n",
    "            keys.add(d[0])\n",
    "            if d[0]==b'topic_dvl_raw':\n",
    "                dvl_data_raw.append(d[1:])\n",
    "        except EOFError:\n",
    "            break\n",
    "print(keys)\n",
    "    "
   ]
  },
  {
   "cell_type": "code",
   "execution_count": null,
   "id": "47290882",
   "metadata": {},
   "outputs": [],
   "source": [
    "class DR(object):\n",
    "    def __init__(self):\n",
    "        self.last_v=None\n",
    "        self.last_t=None\n",
    "        self.x=0\n",
    "    def __call__(self,t,v):\n",
    "        if self.last_v is not None:\n",
    "            va=(v+self.last_v)/2\n",
    "            dt=t-self.last_t\n",
    "            self.x+=va*dt\n",
    "        self.last_v=v\n",
    "        self.last_t=t\n",
    "        return t,self.x\n",
    "        "
   ]
  },
  {
   "cell_type": "code",
   "execution_count": null,
   "id": "9924bb16",
   "metadata": {},
   "outputs": [],
   "source": [
    "#parse_line(dvl_data_raw[0])\n",
    "ts_vel=[]\n",
    "ts_pos=[]\n",
    "vel=[]\n",
    "vel_valid=[]\n",
    "covs=[]\n",
    "foms=[]\n",
    "pos=[]\n",
    "tr_vels=[[],[],[],[]]\n",
    "tr_dists=[[],[],[],[]]\n",
    "tr_rssi=[[],[],[],[]]\n",
    "tr_nsd=[[],[],[],[]]\n",
    "tr_ts=[]\n",
    "dr_x=[]\n",
    "dr_y=[]\n",
    "dr_z=[]\n",
    "yaws=[]\n",
    "drx=DR()\n",
    "dry=DR()\n",
    "drz=DR()\n",
    "for d in dvl_data_raw:\n",
    "    m=parse_line(d[0]['dvl_raw'])\n",
    "    if m and m['type'] in ['vel']:#,'deadreacon']:\n",
    "        ts_vel.append(m['tov']/1e6)\n",
    "        vel.append((m['vx'],m['vy'],m['vz']))\n",
    "        covs.append(m['cov'])\n",
    "        foms.append(m['fom'])\n",
    "        vel_valid.append(m['valid']==b'y')\n",
    "        if m['valid']==b'y':\n",
    "            #print(m['tov'],m['vx'])\n",
    "            dr_x.append(drx(m['tov']/1e6,m['vx']))\n",
    "            dr_y.append(dry(m['tov']/1e6,m['vy']))\n",
    "            dr_z.append(drz(m['tov']/1e6,m['vz']))\n",
    "        #print('ggg',m['valid'],m['status'])\n",
    "        if m['status']>0:\n",
    "            print(m)\n",
    "    if m and m['type'] in ['deadreacon']:\n",
    "        ts_pos.append(m['time'])\n",
    "        pos.append((m['x'],m['y'],m['z']))\n",
    "        yaws.append(m['yaw'])\n",
    "    if m and m['type'] in ['transducer2']:\n",
    "        #print(m)\n",
    "        tr_vels[int(m['id'])].append(m['velocity'])\n",
    "        tr_dists[int(m['id'])].append(m['distance'])\n",
    "        tr_rssi[int(m['id'])].append(m['rssi'])\n",
    "        tr_nsd[int(m['id'])].append(m['nsd'])\n",
    "        #ts_pos.append(m['time'])\n",
    "        ts=d[0]['ts']\n",
    "        if m['id']==0:\n",
    "            tr_ts.append(ts)\n",
    "        #pos.append((m['x'],m['y'],m['z']))\n",
    "    \n",
    "\n",
    "ts_vel=np.array(ts_vel)\n",
    "vel=np.array(vel)\n",
    "covs=np.array(covs)\n",
    "ts_pos=np.array(ts_pos)\n",
    "start=ts_pos[0]\n",
    "ts_pos-=start\n",
    "ts_vel-=start\n",
    "pos=np.array(pos)\n",
    "foms=np.array(foms)\n",
    "tr_vels=np.array(tr_vels).T\n",
    "tr_dists=np.array(tr_dists).T\n",
    "tr_rssi=np.array(tr_rssi).T\n",
    "tr_nsd=np.array(tr_nsd).T\n",
    "tr_ts=np.array(tr_ts)\n",
    "_s=tr_ts[0]\n",
    "tr_ts-=_s\n",
    "dr_x=np.array(dr_x)\n",
    "dr_x[:,0]-= start\n",
    "dr_y=np.array(dr_y)\n",
    "dr_y[:,0]-= start\n",
    "dr_z=np.array(dr_z)\n",
    "dr_z[:,0]-= start"
   ]
  },
  {
   "cell_type": "code",
   "execution_count": null,
   "id": "9ee2704e",
   "metadata": {},
   "outputs": [],
   "source": [
    "dr_x[:,0]"
   ]
  },
  {
   "cell_type": "code",
   "execution_count": null,
   "id": "7df56d41",
   "metadata": {},
   "outputs": [],
   "source": [
    "plt.figure()\n",
    "#plt.plot(ts_vel,np.cumsum(vel[:,1]),'+-')\n",
    "tresh=0.01\n",
    "#inds=np.nonzero(covs[:,0+3*0]<tresh)[0]\n",
    "inds=np.nonzero(vel_valid)[0]\n",
    "for i in [1,2]:\n",
    "    inds=np.intersect1d(inds,np.nonzero(covs[:,i+3*i]<tresh)[0])\n",
    "#plt.plot(ts_vel[inds],vel[inds,:],'+-',alpha=0.4)\n",
    "for i in [0,1,2]:\n",
    "    #plt.plot(ts_vel[inds],vel[inds,i],'+-'+'rgb'[i],alpha=0.4)\n",
    "    plt.plot(ts_vel[inds],covs[inds,i+3*i]*1e4,'.-'+'rgb'[i],alpha=0.1,)\n",
    "\n",
    "    #plt.plot(ts_vel[inds],vel[inds,i],'+-'+'rgb'[i],alpha=0.4)\n",
    "plt.plot(ts_vel[inds],foms[inds]*1e1,'.-m',alpha=0.1,)\n",
    "\n",
    "#inds\n",
    "#plt.show()"
   ]
  },
  {
   "cell_type": "code",
   "execution_count": null,
   "id": "b0cba283",
   "metadata": {},
   "outputs": [],
   "source": [
    "dr_x[:,0]"
   ]
  },
  {
   "cell_type": "code",
   "execution_count": null,
   "id": "fc1fc734",
   "metadata": {},
   "outputs": [],
   "source": [
    "plt.figure()\n",
    "ind=0\n",
    "ax=plt.subplot(3,1,1)\n",
    "plt.title('deadreckon')\n",
    "#plt.plot(ts_vel[inds][1:],np.cumsum(vel[inds][1:0,ind])*np.diff(ts_vel[inds]),'+-b')\n",
    "dr=[dr_x,dr_y,dr_z][ind]\n",
    "plt.plot(dr[:,0],dr[:,1],'+-b')\n",
    "plt.plot(ts_pos,pos[:,ind],'+-r')\n",
    "ax=plt.subplot(3,1,2,sharex=ax)\n",
    "plt.plot(ts_vel[inds],vel[inds][:,ind],'+-b')\n",
    "ax=plt.subplot(3,1,3,sharex=ax)\n",
    "plt.plot(ts_pos,yaws,'+-b')\n"
   ]
  },
  {
   "cell_type": "code",
   "execution_count": null,
   "id": "f67a1ea3",
   "metadata": {},
   "outputs": [],
   "source": [
    "plt.figure()\n",
    "for i in range(4):\n",
    "    plt.plot(tr_ts,tr_vels[:,i],'-+'+'rgbm'[i],alpha=0.2)"
   ]
  },
  {
   "cell_type": "code",
   "execution_count": null,
   "id": "1aa3af26",
   "metadata": {},
   "outputs": [],
   "source": [
    "plt.figure()\n",
    "ax=plt.subplot(3,1,1)\n",
    "plt.title('range')\n",
    "for i in range(4):\n",
    "    plt.plot(tr_ts,tr_dists[:,i],'-+'+'rgbm'[i],alpha=0.2)\n",
    "plt.subplot(3,1,2,sharex=ax)\n",
    "plt.title('rssi')\n",
    "for i in range(4):\n",
    "    plt.plot(tr_ts,tr_rssi[:,i],'-+'+'rgbm'[i],alpha=0.1)\n",
    "plt.subplot(3,1,3,sharex=ax)\n",
    "plt.title('nsd')\n",
    "for i in range(4):\n",
    "    plt.plot(tr_ts,tr_nsd[:,i],'-+'+'rgbm'[i],alpha=0.2)\n",
    "plt.show()\n"
   ]
  },
  {
   "cell_type": "code",
   "execution_count": null,
   "id": "4d18bea9",
   "metadata": {},
   "outputs": [],
   "source": [
    "plt.figure()\n",
    "plt.title('range')\n",
    "for i in range(4):\n",
    "    plt.plot(tr_ts,tr_dists[:,i],'-+'+'rgbm'[i],alpha=0.2)\n",
    "plt.show()"
   ]
  },
  {
   "cell_type": "code",
   "execution_count": null,
   "id": "17c8ca4f",
   "metadata": {},
   "outputs": [],
   "source": []
  },
  {
   "cell_type": "code",
   "execution_count": null,
   "id": "d8d46b01",
   "metadata": {},
   "outputs": [],
   "source": []
  },
  {
   "cell_type": "code",
   "execution_count": null,
   "id": "06a3ac5a",
   "metadata": {},
   "outputs": [],
   "source": []
  }
 ],
 "metadata": {
  "kernelspec": {
   "display_name": "Python 3 (ipykernel)",
   "language": "python",
   "name": "python3"
  },
  "language_info": {
   "codemirror_mode": {
    "name": "ipython",
    "version": 3
   },
   "file_extension": ".py",
   "mimetype": "text/x-python",
   "name": "python",
   "nbconvert_exporter": "python",
   "pygments_lexer": "ipython3",
   "version": "3.10.6"
  }
 },
 "nbformat": 4,
 "nbformat_minor": 5
}
