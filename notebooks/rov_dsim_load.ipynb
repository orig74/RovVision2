{
 "cells": [
  {
   "cell_type": "code",
   "execution_count": null,
   "metadata": {},
   "outputs": [],
   "source": [
    "import numpy as np\n"
   ]
  },
  {
   "cell_type": "code",
   "execution_count": null,
   "metadata": {},
   "outputs": [],
   "source": [
    "import dill\n",
    "dill.settings['recurse'] = True\n",
    "lamb=dill.load(open('lambda.pkl','rb'))"
   ]
  },
  {
   "cell_type": "code",
   "execution_count": null,
   "metadata": {},
   "outputs": [],
   "source": [
    "import matplotlib.pyplot as plt\n",
    "from sympy import latex"
   ]
  },
  {
   "cell_type": "code",
   "execution_count": null,
   "metadata": {},
   "outputs": [],
   "source": [
    "def get_next_state(curr_q,curr_u,control,curr_t,dt,lamb):\n",
    "    forces=control(curr_t)\n",
    "    u_dot_f=lamb(curr_q,curr_u,*forces).flatten()\n",
    "    next_q=curr_q+curr_u*dt\n",
    "    next_u=curr_u+u_dot_f*dt\n",
    "    return next_q,next_u\n"
   ]
  },
  {
   "cell_type": "code",
   "execution_count": null,
   "metadata": {},
   "outputs": [],
   "source": [
    "def plot(t,y):\n",
    "    plt.figure()\n",
    "    plt.subplot(2,2,1)\n",
    "    plt.plot(t, y[:, :3])\n",
    "    plt.legend([latex(s, mode='inline') for s in 'xyz'])\n",
    "    plt.xlabel('[sec]')\n",
    "    plt.ylabel('[meters]')\n",
    "    plt.title('a) Position vs Time')\n",
    "    plt.subplot(2,2,2)\n",
    "    plt.plot(t, np.rad2deg(y[:, 3:6]))\n",
    "    plt.legend([latex(s, mode='inline') for s in 'ypr'])\n",
    "    plt.xlabel('[sec]')\n",
    "    plt.ylabel('[deg]')\n",
    "    plt.title('b) Rotations vs Time')\n",
    "    plt.subplot(2,2,3)\n",
    "    plt.xlabel('[meters]')\n",
    "    plt.ylabel('[meters]')\n",
    "    plt.title('c) XY plane plot')\n",
    "    plt.plot(y[:,0],y[:,1])\n",
    "    plt.axis('equal')\n",
    "    plt.subplot(2,2,4)\n",
    "    plt.plot(t, np.rad2deg(y[:, 9:12]))\n",
    "    plt.legend([latex(s, mode='inline') for s in ['Rz','Ry','Rx']])\n",
    "    plt.xlabel('[sec]')\n",
    "    plt.ylabel('[deg/sec]')\n",
    "    plt.title('d) Angular velocities')\n",
    "    "
   ]
  },
  {
   "cell_type": "code",
   "execution_count": null,
   "metadata": {},
   "outputs": [],
   "source": [
    "def sim(controller):\n",
    "    curr_q = np.zeros(6)\n",
    "    curr_u = np.zeros(6)\n",
    "    frames_per_sec = 60.0\n",
    "    final_time = 40.0\n",
    "    dt=1.0/frames_per_sec\n",
    "    y=[]\n",
    "    curr_time=0\n",
    "    t = np.linspace(0.0, final_time, int(final_time * frames_per_sec))\n",
    "    #lamb=get_next_state_lambda()\n",
    "    for curr_time in t:\n",
    "        #next_q,next_u=get_next_state(curr_q,curr_u,controller,curr_time,dt,subs)\n",
    "        next_q,next_u=get_next_state(curr_q,curr_u,controller,curr_time,dt,lamb)\n",
    "        next_q,next_u=next_q.flatten(),next_u.flatten()\n",
    "        y.append(np.hstack((next_q,next_u)))\n",
    "        curr_q,curr_u=next_q,next_u\n",
    "        #print(next_u)\n",
    "    y=np.array(y,dtype='float32')\n",
    "    return(t,y)"
   ]
  },
  {
   "cell_type": "code",
   "execution_count": null,
   "metadata": {},
   "outputs": [],
   "source": [
    "# l ,r f ,b\n",
    "def controller2(t):\n",
    "    if t<10: #left\n",
    "        return [0,0,0,0.0, -1,1,-1,1]\n",
    "    elif t<20:\n",
    "        return [0,0,0,0.0, 1,-1,1,-1]\n",
    "    elif t<30:\n",
    "        return [0,0,0,0.0, 1,1,1,1]\n",
    "    else:\n",
    "        return [0,0,0,0.0, -1,-1,-1,-1]\n",
    "t,y=sim(controller2)\n",
    "plot(t,y)"
   ]
  },
  {
   "cell_type": "code",
   "execution_count": null,
   "metadata": {},
   "outputs": [],
   "source": []
  }
 ],
 "metadata": {
  "kernelspec": {
   "display_name": "Python 3 (ipykernel)",
   "language": "python",
   "name": "python3"
  },
  "language_info": {
   "codemirror_mode": {
    "name": "ipython",
    "version": 3
   },
   "file_extension": ".py",
   "mimetype": "text/x-python",
   "name": "python",
   "nbconvert_exporter": "python",
   "pygments_lexer": "ipython3",
   "version": "3.8.10"
  }
 },
 "nbformat": 4,
 "nbformat_minor": 2
}
