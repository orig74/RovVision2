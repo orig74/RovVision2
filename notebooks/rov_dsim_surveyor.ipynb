{
 "cells": [
  {
   "cell_type": "code",
   "execution_count": null,
   "metadata": {},
   "outputs": [],
   "source": [
    "%matplotlib widget\n",
    "import numpy as np\n",
    "import matplotlib.pyplot as plt\n",
    "from sympy import *\n",
    "import sympy.physics.mechanics as me\n",
    "#from sympy import sin, cos, symbols, solve, Matrix\n",
    "#from scipy.integrate import odeint\n",
    "from IPython.display import SVG\n",
    "import time\n",
    "me.init_vprinting()#(use_latex='mathjax')\n",
    "#from sympy.interactive import printing\n",
    "#printing.init_printing(use_latex=True)"
   ]
  },
  {
   "cell_type": "code",
   "execution_count": null,
   "metadata": {},
   "outputs": [],
   "source": [
    "def mprint(d):\n",
    "    print(me.vlatex(d))\n",
    "    return d"
   ]
  },
  {
   "cell_type": "code",
   "execution_count": null,
   "metadata": {},
   "outputs": [],
   "source": [
    "#right hand system & thrust positive down and forward\n",
    "SVG(filename='./RovVision2surveyor.svg')"
   ]
  },
  {
   "cell_type": "code",
   "execution_count": null,
   "metadata": {},
   "outputs": [],
   "source": []
  },
  {
   "cell_type": "markdown",
   "metadata": {},
   "source": [
    "# Define Variables\n",
    "\n",
    "constants:\n",
    "\n",
    "- $m_A$: Mass of the Rov.\n",
    "- $a,b,c,d,e,f,g,h,i,j,k$: reltive coords wrt O"
   ]
  },
  {
   "cell_type": "code",
   "execution_count": null,
   "metadata": {},
   "outputs": [],
   "source": [
    "# Inertial Reference Frame\n",
    "N = me.ReferenceFrame('N')\n",
    "\n",
    "# Define a world coordinate origin\n",
    "O = me.Point('O')\n",
    "O.set_vel(N, 0)"
   ]
  },
  {
   "cell_type": "code",
   "execution_count": null,
   "metadata": {},
   "outputs": [],
   "source": [
    "#generelized coordinates\n",
    "#q0..3 = xyz positions  q4..6 = roll,pitch,yaw rotations\n",
    "q = list(me.dynamicsymbols('q0:6'))\n",
    "#generlized speeds\n",
    "u = list(me.dynamicsymbols('u0:6'))\n",
    "\n",
    "kin_diff=Matrix(q).diff()-Matrix(u)\n",
    "#print(me.vlatex(kin_diff))\n",
    "mprint(kin_diff)"
   ]
  },
  {
   "cell_type": "code",
   "execution_count": null,
   "metadata": {},
   "outputs": [],
   "source": [
    "# Constants for the ROV Body\n",
    "\n",
    "m_b = symbols('m_b')                                 # Mass of the body\n",
    "v_b = symbols('v_b') # Volume of the body\n",
    "mux = symbols('\\mu_x') #drag\n",
    "muy = symbols('\\mu_y') #drag\n",
    "muz = symbols('\\mu_z') #drag\n",
    "mu_r = symbols('\\mu_r') #rotational drag\n",
    "g = symbols('g')\n",
    "I = list(symbols('Ixx, Iyy, Izz'))             # Moments of inertia of body\n",
    "a,b,c,d,e,f,h,i,j,k = symbols(list('abcdefhijk'))"
   ]
  },
  {
   "cell_type": "code",
   "execution_count": null,
   "metadata": {},
   "outputs": [],
   "source": []
  },
  {
   "cell_type": "code",
   "execution_count": null,
   "metadata": {},
   "outputs": [],
   "source": [
    "# Robot Reference Frame\n",
    "Rz=N.orientnew('R_z', 'Axis', (q[3+0], N.z))\n",
    "Rz.set_ang_vel(N,u[3+0]*N.z)\n",
    "\n",
    "Ry=Rz.orientnew('R_y', 'Axis', (q[3+1], Rz.y))\n",
    "Ry.set_ang_vel(Rz,u[3+1]*Rz.y)\n",
    "\n",
    "R=Ry.orientnew('R', 'Axis', (q[3+2], Ry.x))\n",
    "R.set_ang_vel(Ry,u[3+2]*Ry.x)\n",
    "\n",
    "# Center of mass of body\n",
    "COM = O.locatenew('COM', q[0]*N.x + q[1]*N.y + q[2]*N.z) #adding k length moving the COM forward\n",
    "\n",
    "# Set the velocity of COM\n",
    "COM.set_vel(N, u[0]*N.x + u[1]*N.y + u[2]*N.z)\n",
    "\n",
    "#center of bouyency\n",
    "COB = COM.locatenew('COB', -R.z*e)\n",
    "COB.v2pt_theory(COM, N, R);\n",
    "COD = COM.locatenew('COD', -R.z*f-R.x*a)\n",
    "COD.v2pt_theory(COM, N, R);\n"
   ]
  },
  {
   "cell_type": "code",
   "execution_count": null,
   "metadata": {},
   "outputs": [],
   "source": []
  },
  {
   "cell_type": "code",
   "execution_count": null,
   "metadata": {},
   "outputs": [],
   "source": [
    "### next 3 cells for calculating conversion from angular rates to euler rates\n",
    "#str(R.ang_vel_in(N).express(R).to_matrix(R)).replace('(t)','')\n",
    "R.ang_vel_in(N).express(R)"
   ]
  },
  {
   "cell_type": "code",
   "execution_count": null,
   "metadata": {},
   "outputs": [],
   "source": [
    "from sympy import Matrix\n",
    "#the next matrix I created manually from the output of the prev cell\n",
    "MM=Matrix([[0, -sin(q[3]), cos(q[3])*cos(q[4])],\n",
    "        [0, cos(q[3]), sin(q[3])*cos(q[4])],\n",
    "        [1,0,-sin(q[4])]])\n",
    "MM*Matrix([[u[3],u[4],u[5]]]).T\n",
    "MMI=MM.inv()"
   ]
  },
  {
   "cell_type": "code",
   "execution_count": null,
   "metadata": {},
   "outputs": [],
   "source": [
    "MMI.simplify()\n",
    "#should print the final matrix\n",
    "print(MMI)"
   ]
  },
  {
   "cell_type": "code",
   "execution_count": null,
   "metadata": {},
   "outputs": [],
   "source": [
    "# Calculate inertia of body\n",
    "#for the products of inertia we assume symetric body => ixy=0, iyz=0, izx=0\n",
    "Ib = me.inertia(R, *I , ixy=0, iyz=0, izx=0)\n",
    "# Create a rigid body object for body\n",
    "Body = me.RigidBody('Body', COM, R, m_b, (Ib, COM))\n"
   ]
  },
  {
   "cell_type": "code",
   "execution_count": null,
   "metadata": {},
   "outputs": [],
   "source": [
    "# Points of thrusters\n",
    "L1 = COM.locatenew('L_1', -R.y*d+R.x*i-R.z*h-R.x*k)\n",
    "L2 = COM.locatenew('L_2', R.y*d+R.x*i-R.z*h-R.x*k)\n",
    "L3 = COM.locatenew('L_3', R.y*d-R.x*i-R.z*h-R.x*k)\n",
    "L4 = COM.locatenew('L_4', -R.y*d-R.x*i-R.z*h-R.x*k)\n",
    "L5 = COM.locatenew('L_5', -R.y*c +R.x*b+R.z*j-R.x*k)\n",
    "L6 = COM.locatenew('L_6',  R.y*c +R.x*b+R.z*j-R.x*k)\n",
    "L7 = COM.locatenew('L_7', R.y*c-R.x*b+R.z*j-R.x*k)\n",
    "L8 = COM.locatenew('L_8', -R.y*c-R.x*b+R.z*j-R.x*k)\n",
    "\n",
    "# Set the velocity of points \n",
    "L1.v2pt_theory(COM, N, R)\n",
    "L2.v2pt_theory(COM, N, R)\n",
    "L3.v2pt_theory(COM, N, R);\n",
    "L4.v2pt_theory(COM, N, R);\n",
    "L5.v2pt_theory(COM, N, R);\n",
    "L6.v2pt_theory(COM, N, R);\n",
    "L7.v2pt_theory(COM, N, R);\n",
    "L8.v2pt_theory(COM, N, R);\n"
   ]
  },
  {
   "cell_type": "markdown",
   "metadata": {},
   "source": [
    "## Calculating hydrodynamic drag\n",
    "\n",
    "https://en.wikipedia.org/wiki/Drag_(physics)\n",
    "\n",
    "for slow moving objects with non turbulant flow the drag is proportional to the velocity and can be written as:\n",
    "\n",
    "$F_{D}\\,=\\mu \\,v$"
   ]
  },
  {
   "cell_type": "code",
   "execution_count": null,
   "metadata": {},
   "outputs": [],
   "source": [
    "#v=N.x*u[0]+N.y*u[1]+N.z*u[2]\n",
    "Fd=-u[0]*mux*N.x -u[1]*N.y*muy -u[2]*muz*N.z\n",
    "Fd"
   ]
  },
  {
   "cell_type": "code",
   "execution_count": null,
   "metadata": {},
   "outputs": [],
   "source": [
    "#thrust forces symbols\n",
    "F1, F2, F3, F4, F5, F6, F7, F8 = symbols('f_1, f_2, f_3, f_4, f_5, f_6, f_7, f_8') \n",
    "Fg = -N.z *m_b * g\n",
    "Fb = N.z * v_b * 1e3 *g #whight of 1m^3 water in kg (MKS units)\n",
    "mprint(Fb)"
   ]
  },
  {
   "cell_type": "code",
   "execution_count": null,
   "metadata": {},
   "outputs": [],
   "source": [
    "#### adding dumping Torqe for each rotation\n",
    "\n",
    "#T_z=(Rz,-u[3+2]*N.z*mu_r) #rotaional dumping Torqe\n",
    "#T_y=(Ry,-u[3+1]*Rz.y*mu_r) #rotaional dumping Torqe\n",
    "#T_x=(R,-u[3+0]*Ry.x*mu_r) #rotaional dumping Torqe\n",
    "#T = (R, -(u[3+0]*Ry.x+u[3+1]*Rz.y+u[3+2]*N.z)*mu_r)\n",
    "#T = (R, -(u[3+0]*N.z+u[3+1]*Rz.y+u[3+2]*R.x)*mu_r)\n",
    "T = (R, -R.ang_vel_in(N)*mu_r)\n",
    "mprint(T[1])"
   ]
  },
  {
   "cell_type": "code",
   "execution_count": null,
   "metadata": {},
   "outputs": [],
   "source": [
    "#currents effect \n",
    "# for now only leanear\n",
    "cx,cy,cz=symbols('c_x,c_y,c_z')\n",
    "Fc=cx*N.x+cy*N.y+cz*N.z\n",
    "Fc"
   ]
  },
  {
   "cell_type": "code",
   "execution_count": null,
   "metadata": {},
   "outputs": [],
   "source": [
    "kane = me.KanesMethod(N, q_ind=q, u_ind=u, kd_eqs=kin_diff)"
   ]
  },
  {
   "cell_type": "code",
   "execution_count": null,
   "metadata": {},
   "outputs": [],
   "source": [
    "sq2=0.7#np.sqrt(2)/2\n",
    "bodies = (Body,)\n",
    "ta = np.deg2rad(45)\n",
    "#ta = np.deg2rad(20)\n",
    "c_ta = np.cos(ta)\n",
    "s_ta = np.sin(ta)\n",
    "loads = (\n",
    "    (L1, F1 * R.z),\n",
    "    (L2, F2 * R.z),\n",
    "    (L3, F3 * R.z), \n",
    "    (L4, F4 * R.z), \n",
    "    (L5, sq2 * F5 * (R.x*c_ta + R.y*s_ta)), \n",
    "    (L6, sq2 * F6 * (R.x*c_ta - R.y*s_ta)), \n",
    "    (L7, sq2 * F7 * (R.x*c_ta + R.y*s_ta)), \n",
    "    (L8, sq2 * F8 * (R.x*c_ta - R.y*s_ta)), \n",
    "    (COM, Fg ), \n",
    "    (COB, Fb ), \n",
    "    (COD, Fd + Fc),\n",
    "    T\n",
    "    )\n",
    "\n",
    "fr, frstar = kane.kanes_equations(loads=loads, bodies=bodies)"
   ]
  },
  {
   "cell_type": "code",
   "execution_count": null,
   "metadata": {},
   "outputs": [],
   "source": [
    "#u_dot=trigsimp(trigsimp(kane.mass_matrix).inv()*trigsimp(kane.forcing))\n",
    "u_dot=kane.mass_matrix.inv()*kane.forcing\n",
    "u_dot.atoms(Symbol)"
   ]
  },
  {
   "cell_type": "code",
   "execution_count": null,
   "metadata": {},
   "outputs": [],
   "source": [
    "mprint(F1 * R.x)"
   ]
  },
  {
   "cell_type": "code",
   "execution_count": null,
   "metadata": {},
   "outputs": [],
   "source": [
    "fr.atoms(Symbol)"
   ]
  },
  {
   "cell_type": "code",
   "execution_count": null,
   "metadata": {},
   "outputs": [],
   "source": [
    "if 0:\n",
    "    km_simp=trigsimp(kane.mass_matrix)\n",
    "    kf_simp=trigsimp(kane.forcing)\n",
    "#mprint(kf_simp)"
   ]
  },
  {
   "cell_type": "code",
   "execution_count": null,
   "metadata": {},
   "outputs": [],
   "source": [
    "_subs=[(a,0.0),\n",
    "    (b,0.20),\n",
    "    (c,0.20), #c & b should be the sae value to achive 45 deg from COM\n",
    "    (d,0.15),\n",
    "    (e,0.00),\n",
    "    (f,0.00),\n",
    "    (h,0.00),\n",
    "    (i,0.20),\n",
    "    (j,0.00),\n",
    "    (k,0.00),\n",
    "    (m_b,1.0*12), #1\n",
    "    (v_b,0.001*12), #0.001\n",
    "    (mux,6.2),\n",
    "    (muy,6.2),\n",
    "    (muz,6.2),\n",
    "    (mu_r,4.5),\n",
    "    (g,9.8), #9.8\n",
    "    (I[0],1.2),\n",
    "    (I[1],1.2),\n",
    "    (I[2],1.2)\n",
    "     ]#mprint(kf_simp[4])\n",
    "#u_dot_simp[1]\n",
    "subs=[(a,0.0),\n",
    "    (b,0.20),\n",
    "    (c,0.20), #c & b should be the sae value to achive 45 deg from COM\n",
    "    (d,0.15),\n",
    "    (e,-0.003),\n",
    "    (f,0.00),\n",
    "    (h,-0.02),\n",
    "    (i,0.20),\n",
    "    (j,0.03),\n",
    "    (k,0.00),\n",
    "    (m_b,1.0*12), #1\n",
    "    (v_b,0.001*11.98), #0.001\n",
    "    (mux,6.2),\n",
    "    (muy,6.2),\n",
    "    (muz,6.2),\n",
    "    (mu_r,4.5),\n",
    "    (g,9.8), #9.8\n",
    "    (I[0],1.2),\n",
    "    (I[1],1.2),\n",
    "    (I[2],1.2)\n",
    "     ]#mprint(kf_simp[4])\n",
    "\n",
    "subs=[(a,0.0),\n",
    "    (b,0.20),\n",
    "    (c,0.20), #c & b should be the sae value to achive 45 deg from COM\n",
    "    (d,0.15),\n",
    "    (e,-0.003),\n",
    "    (f,0.00),\n",
    "    (h,-0.02),\n",
    "    (i,0.20),\n",
    "    (j,0.03),\n",
    "    (k,0.05),\n",
    "    (m_b,1.0*12), #1\n",
    "    (v_b,0.001*11.98), #0.001\n",
    "    (mux,6.2),\n",
    "    (muy,6.2),\n",
    "    (muz,6.2),\n",
    "    (mu_r,4.5),\n",
    "    (g,9.8), #9.8\n",
    "    (I[0],1.2),\n",
    "    (I[1],1.2),\n",
    "    (I[2],1.2)\n",
    "     ]#mprint(kf_simp[4])\n",
    "\n",
    "\n",
    "u_dot_simp=u_dot.subs(subs)\n",
    "#u_dot_simp=trigsimp(u_dot_simp)\n"
   ]
  },
  {
   "cell_type": "code",
   "execution_count": null,
   "metadata": {
    "scrolled": true
   },
   "outputs": [],
   "source": [
    "#dump\n",
    "#import dill\n",
    "#dill.settings['recurse'] = True\n",
    "#dill.dump(u_dot,open('udot.pkl','wb'))\n",
    "u_dot[0].subs([(F1,0),(F2,0),(F3,0),(F4,0),(F5,0),(F6,0),(F7,0),(F8,0)])"
   ]
  },
  {
   "cell_type": "code",
   "execution_count": null,
   "metadata": {},
   "outputs": [],
   "source": [
    "u_dot.atoms(Symbol)"
   ]
  },
  {
   "cell_type": "code",
   "execution_count": null,
   "metadata": {},
   "outputs": [],
   "source": [
    "from sympy import lambdify\n",
    "def get_next_state_lambda():\n",
    "    return lambdify((q,u,F1,F2,F3,F4,F5,F6,F7,F8,cx,cy,cz),u_dot_simp)\n",
    "\n",
    "def get_next_state(curr_q,curr_u,control,curr_t,dt,lamb):\n",
    "    forces=control(curr_t)\n",
    "    u_dot_f=lamb(curr_q,curr_u,*forces).flatten()\n",
    "    next_q=curr_q+curr_u*dt\n",
    "    next_u=curr_u+u_dot_f*dt\n",
    "    return next_q,next_u\n",
    "#test lambdify\n",
    "qq=np.zeros(6)\n",
    "uu=np.zeros(6)\n",
    "lamb=get_next_state_lambda()\n",
    "lamb(qq,uu,0,0,0,0,1,-1,-1,1,0,0,0)\n",
    "#lamb(qq,uu,0,0,0,0,1,1,1,1)\n"
   ]
  },
  {
   "cell_type": "code",
   "execution_count": null,
   "metadata": {},
   "outputs": [],
   "source": [
    "#dump\n",
    "import dill\n",
    "dill.settings['recurse'] = True\n",
    "dill.dump(lamb,open('../sim/lambda.pkl','wb'))"
   ]
  },
  {
   "cell_type": "code",
   "execution_count": null,
   "metadata": {},
   "outputs": [],
   "source": [
    "def plot(t,y):\n",
    "    plt.figure(figsize=(12,8))\n",
    "    plt.subplot(2,2,1)\n",
    "    plt.plot(t, y[:, :3])\n",
    "    plt.legend([latex(s, mode='inline') for s in 'xyz'])\n",
    "    plt.xlabel('[sec]')\n",
    "    plt.ylabel('[meters]')\n",
    "    plt.title('a) Position vs Time')\n",
    "    plt.subplot(2,2,2)\n",
    "    plt.plot(t, np.rad2deg(y[:, 3:6]))\n",
    "    plt.legend([latex(s, mode='inline') for s in 'ypr'])\n",
    "    plt.xlabel('[sec]')\n",
    "    plt.ylabel('[deg]')\n",
    "    plt.title('b) Rotations vs Time')\n",
    "    plt.subplot(2,2,3)\n",
    "    plt.xlabel('[meters]')\n",
    "    plt.ylabel('[meters]')\n",
    "    plt.title('c) XY plane plot')\n",
    "    plt.plot(y[:,0],y[:,1])\n",
    "    plt.axis('equal')\n",
    "    plt.subplot(2,2,4)\n",
    "    plt.plot(t, np.rad2deg(y[:, 9:12]))\n",
    "    plt.legend([latex(s, mode='inline') for s in ['Rz','Ry','Rx']])\n",
    "    plt.xlabel('[sec]')\n",
    "    plt.ylabel('[deg/sec]')\n",
    "    plt.title('d) Angular velocities')\n",
    "    "
   ]
  },
  {
   "cell_type": "code",
   "execution_count": null,
   "metadata": {},
   "outputs": [],
   "source": []
  },
  {
   "cell_type": "code",
   "execution_count": null,
   "metadata": {},
   "outputs": [],
   "source": [
    "def sim(controller, curr_q=None):\n",
    "    if curr_q is None:\n",
    "        curr_q = np.zeros(6)\n",
    "    curr_u = np.zeros(6)\n",
    "    frames_per_sec = 60.0\n",
    "    final_time = 300.0\n",
    "    dt=1.0/frames_per_sec\n",
    "    y=[]\n",
    "    curr_time=0\n",
    "    t = np.linspace(0.0, final_time, int(final_time * frames_per_sec))\n",
    "    lamb=get_next_state_lambda()\n",
    "    for curr_time in t:\n",
    "        #next_q,next_u=get_next_state(curr_q,curr_u,controller,curr_time,dt,subs)\n",
    "        next_q,next_u=get_next_state(curr_q,curr_u,controller,curr_time,dt,lamb)\n",
    "        next_q,next_u=next_q.flatten(),next_u.flatten()\n",
    "        #next_u=np.clip(next_u,-0.1,0.1)\n",
    "        y.append(np.hstack((next_q,next_u)))\n",
    "        curr_q,curr_u=next_q,next_u\n",
    "        #print(next_u)\n",
    "    y=np.array(y,dtype='float32')\n",
    "    return(t,y)\n"
   ]
  },
  {
   "cell_type": "code",
   "execution_count": null,
   "metadata": {
    "tags": []
   },
   "outputs": [],
   "source": [
    "def controller1(t):\n",
    "    if t<10:\n",
    "        return [0]*4+[0]*4+[0]*3\n",
    "    elif t<80:\n",
    "        return [0,0,0,0,1,1,1,1,0,0,0] #fwd\n",
    "        #return [0,0,0,0,1,-1,-1,1,0,0,0] #rotate\n",
    "        #return [0,0,0,0,1,-1,1,-1,0,0,0] #right\n",
    "    else:\n",
    "        return [0]*11\n",
    "\n",
    "        #return [0.1]*4+[0]*4\n",
    "#t,y=sim(controller1,np.array([0,0,0,-np.pi/2,0,0]))\n",
    "t,y=sim(controller1,np.array([0,0,0,0,0,0]))\n",
    "plot(t,y)\n",
    "y[-1]"
   ]
  },
  {
   "cell_type": "code",
   "execution_count": null,
   "metadata": {},
   "outputs": [],
   "source": [
    "def controller1(t):\n",
    "    if t<10:\n",
    "        return [0]*4+[0]*4+[0]*3\n",
    "    elif t<80:\n",
    "        return [0,0,0,0,1,1,1,1,np.sin(t/10*2*np.pi)*3,0,0] #fwd with currents\n",
    "        #return [0,0,0,0,1,-1,-1,1,0,0,0] #rotate\n",
    "        #return [0,0,0,0,1,-1,1,-1,0,0,0] #right\n",
    "    else:\n",
    "        return [0]*11\n",
    "\n",
    "        #return [0.1]*4+[0]*4\n",
    "#t,y=sim(controller1,np.array([0,0,0,-np.pi/2,0,0]))\n",
    "t,y=sim(controller1,np.array([0,0,0,0,0,0]))\n",
    "plot(t,y)\n",
    "y[-1]"
   ]
  },
  {
   "cell_type": "code",
   "execution_count": null,
   "metadata": {},
   "outputs": [],
   "source": [
    "def controller1(t):\n",
    "    if t<10:\n",
    "        return [0]*4+[0]*4+[0]*3\n",
    "    elif t<50:\n",
    "        return [1,1,1,1]+[0]*4+[0]*3\n",
    "        #return [1,1,0.6,0.6]+[0]*4+[0]*3\n",
    "    else:\n",
    "        return [0]*4+[0]*4+[0]*3\n",
    "\n",
    "        #return [0.1]*4+[0]*4\n",
    "t,y=sim(controller1)\n",
    "plot(t,y)"
   ]
  },
  {
   "cell_type": "code",
   "execution_count": null,
   "metadata": {},
   "outputs": [],
   "source": [
    "#only rotation\n",
    "def controller1(t):\n",
    "    if t<20:\n",
    "        return [0.0 for i in range(8)]\n",
    "    else:\n",
    "        return [0,0,0,0, 1+0.00,-1+0.00,-1+0.00,1+0.00]\n",
    "        #return [0.1]*4+[0]*4\n",
    "t,y=sim(controller1)\n",
    "plot(t,y)\n",
    "y[-1]"
   ]
  },
  {
   "cell_type": "code",
   "execution_count": null,
   "metadata": {},
   "outputs": [],
   "source": [
    "# l ,r f ,b\n",
    "def controller2(t):\n",
    "    if t<10: #left\n",
    "        return [0,0,0,0.0, -1,1,-1,1]\n",
    "    elif t<20:\n",
    "        return [0,0,0,0.0, 1,-1,1,-1]\n",
    "    elif t<30:\n",
    "        return [0,0,0,0.0, 1,1,1,1]\n",
    "    else:\n",
    "        return [0]*8\n",
    "t,y=sim(controller2)\n",
    "plot(t,y)"
   ]
  },
  {
   "cell_type": "code",
   "execution_count": null,
   "metadata": {},
   "outputs": [],
   "source": [
    "# d,u\n",
    "def controller3(t):\n",
    "    if t<20: #left\n",
    "        return [1,1,1,1, 0,0,0,0]\n",
    "    else:\n",
    "        return [-1,-1,-1,-1 ,0,0,0,0]\n",
    "t,y=sim(controller3)\n",
    "plot(t,y)"
   ]
  },
  {
   "cell_type": "code",
   "execution_count": null,
   "metadata": {},
   "outputs": [],
   "source": [
    "# pitch \n",
    "def controller4(t):\n",
    "    if t<20: #left\n",
    "        return [1,1,-1,-1, 0,0,0,0]\n",
    "    else:\n",
    "        return [-1,-1,1,1 ,0,0,0,0]\n",
    "t,y=sim(controller4)\n",
    "plot(t,y)"
   ]
  },
  {
   "cell_type": "code",
   "execution_count": null,
   "metadata": {},
   "outputs": [],
   "source": [
    "# roll \n",
    "def controller5(t):\n",
    "    if t<20: #left\n",
    "        return [1,-1,-1,1, 0,0,0,0]\n",
    "    else:\n",
    "        return [-1,1,1,-1 ,0,0,0,0]\n",
    "t,y=sim(controller5)\n",
    "plot(t,y)"
   ]
  },
  {
   "cell_type": "code",
   "execution_count": null,
   "metadata": {},
   "outputs": [],
   "source": [
    "print(me.express(N.z,R))"
   ]
  },
  {
   "cell_type": "code",
   "execution_count": null,
   "metadata": {},
   "outputs": [],
   "source": [
    "print(me.express(N.x,R))"
   ]
  },
  {
   "cell_type": "code",
   "execution_count": null,
   "metadata": {},
   "outputs": [],
   "source": [
    "print(me.express(N.y,R))"
   ]
  },
  {
   "cell_type": "code",
   "execution_count": null,
   "metadata": {},
   "outputs": [],
   "source": [
    "print(R.dcm(N))"
   ]
  },
  {
   "cell_type": "code",
   "execution_count": null,
   "metadata": {},
   "outputs": [],
   "source": [
    "R.dcm(N).T.subs([(q[0],0),(q[1],np.pi/2),(q[2],0)])"
   ]
  },
  {
   "cell_type": "code",
   "execution_count": null,
   "metadata": {},
   "outputs": [],
   "source": []
  },
  {
   "cell_type": "code",
   "execution_count": null,
   "metadata": {},
   "outputs": [],
   "source": []
  }
 ],
 "metadata": {
  "kernelspec": {
   "display_name": "Python 3",
   "language": "python",
   "name": "python3"
  },
  "language_info": {
   "codemirror_mode": {
    "name": "ipython",
    "version": 3
   },
   "file_extension": ".py",
   "mimetype": "text/x-python",
   "name": "python",
   "nbconvert_exporter": "python",
   "pygments_lexer": "ipython3",
   "version": "3.7.3"
  }
 },
 "nbformat": 4,
 "nbformat_minor": 4
}
