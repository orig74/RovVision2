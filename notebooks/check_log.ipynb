{
 "cells": [
  {
   "cell_type": "code",
   "execution_count": null,
   "id": "2b177c87",
   "metadata": {},
   "outputs": [],
   "source": [
    "%matplotlib widget\n",
    "import numpy as np\n",
    "import matplotlib.pyplot as plt\n",
    "import pickle\n",
    "import sys,os\n",
    "#import pandas as pd"
   ]
  },
  {
   "cell_type": "code",
   "execution_count": null,
   "id": "987e27b8",
   "metadata": {},
   "outputs": [],
   "source": [
    "hw_path=os.path.abspath('../hw')\n",
    "if hw_path not in sys.path:\n",
    "    sys.path.append(hw_path)\n",
    "from dvl import parse_line"
   ]
  },
  {
   "cell_type": "code",
   "execution_count": null,
   "id": "12da1097",
   "metadata": {},
   "outputs": [],
   "source": [
    "\n",
    "#data_file='../../data2/230414-121529/viewer_data.pkl'\n",
    "data_file='../../data2/230427-161356/viewer_data.pkl' #scan\n",
    "data_file='../../data2/230428-115612/viewer_data.pkl' #grab\n",
    "data_file='../../data2/230427-153912/viewer_data.pkl' #scan\n",
    "data_file='../../data2/230427-141001/viewer_data.pkl' #grab\n",
    "aaa='''\n",
    "230417-124410,test\n",
    "230417-130351\n",
    "230417-131540\n",
    "230417-134122\n",
    "230417-134251\n",
    "230427-123857, in 410 dvl error during scan requiers hanling\n",
    "230427-125518. grabbing?\n",
    "230427-133457, scan strange depth, maybe rov out between dives\n",
    "230427-141001\n",
    "230427-153912\n",
    "230427-161241\n",
    "230427-161356,scan\n",
    "230427-163312\n",
    "230427-163859\n",
    "230428-115612\n",
    "230428-122153\n",
    "230428-123852\n",
    "230428-125713\n",
    "230428-125908\n",
    "230428-132522\n",
    "230428-133824\n",
    "230428-142729\n",
    "230428-153056\n",
    "'''.strip().split('\\n')\n",
    "data_file='../../data2/'+aaa[8].split(',')[0]+'/viewer_data.pkl'\n",
    "#fd=open(data_file,'rb')\n",
    "!ls -all -h $data_file\n",
    "#!ls -1 ../../data2\n",
    "#!du -s -h ../../data2/*"
   ]
  },
  {
   "cell_type": "code",
   "execution_count": null,
   "id": "338e4a75",
   "metadata": {},
   "outputs": [],
   "source": [
    "ddd={}\n",
    "with open(data_file,'rb') as fd:\n",
    "    while 1:\n",
    "        try:\n",
    "            d=pickle.load(fd)\n",
    "            if d[0] not in ddd:\n",
    "                ddd[d[0]]=[]\n",
    "            ddd[d[0]].append(d[1:])\n",
    "        except EOFError:\n",
    "            break\n",
    "print(ddd.keys())\n",
    "    "
   ]
  },
  {
   "cell_type": "code",
   "execution_count": null,
   "id": "ca1126cc-89aa-4fd8-b9fe-f0f3262675cc",
   "metadata": {
    "tags": []
   },
   "outputs": [],
   "source": [
    "start_time=ddd[b'start_time'][0][0]"
   ]
  },
  {
   "cell_type": "code",
   "execution_count": null,
   "id": "535ec0f6",
   "metadata": {},
   "outputs": [],
   "source": [
    "ttags=np.array([i[0] for i in ddd[b'thruster_cmd']])-start_time\n",
    "#ttags=ttags-start_time\n",
    "cmds=np.array([i[1][1] for i in ddd[b'thruster_cmd']])\n",
    "print(start_time)"
   ]
  },
  {
   "cell_type": "code",
   "execution_count": null,
   "id": "fc1fc734",
   "metadata": {},
   "outputs": [],
   "source": [
    "plt.figure()\n",
    "ax=plt.subplot(1,1,1)\n",
    "plt.plot(ttags,cmds[:,:]+np.linspace(0,0.05,8),alpha=0.5)\n",
    "#plt.plot(ttags,cmds.sum(axis=1),alpha=1)\n",
    "plt.show()"
   ]
  },
  {
   "cell_type": "code",
   "execution_count": null,
   "id": "0762db72",
   "metadata": {},
   "outputs": [],
   "source": [
    "ttags=np.array([i[0] for i in ddd[b'topic_att_pitch_control']])\n",
    "print(ttags[0]-start_time)\n",
    "#start_time=ttags[0]\n",
    "ttags=ttags-start_time\n",
    "N=np.array([i[1]['N'] for i in ddd[b'topic_att_pitch_control']])\n",
    "T=np.array([i[1]['T'] for i in ddd[b'topic_att_pitch_control']])\n",
    "R=np.array([i[1]['R'] for i in ddd[b'topic_att_pitch_control']])\n",
    "\n",
    "#cmds=np.array([i[1][1] for i in ddd[b'topic_att_pitch_control']])"
   ]
  },
  {
   "cell_type": "code",
   "execution_count": null,
   "id": "ce9bf13b",
   "metadata": {},
   "outputs": [],
   "source": [
    "#ddd[b'topic_att_pitch_control'][:10]\n",
    "plt.figure()\n",
    "ax=plt.subplot(1,1,1)\n",
    "plt.plot(ttags,N,alpha=0.8)\n",
    "plt.plot(ttags,T,alpha=0.8)\n",
    "plt.plot(ttags,R,alpha=0.2)\n",
    "plt.legend(['N-actual','T-target','R-rate'])\n",
    "#plt.plot(ttags,cmds.sum(axis=1),alpha=1)\n",
    "plt.show()"
   ]
  },
  {
   "cell_type": "code",
   "execution_count": null,
   "id": "b8958db8-6421-492b-a614-0e75dc9918da",
   "metadata": {},
   "outputs": [],
   "source": [
    "ttags_depth=np.array([i[0] for i in ddd[b'topic_depth_control']])\n",
    "#start_time=ttags[0]\n",
    "ttags_depth=ttags_depth-start_time\n",
    "Nd=np.array([i[1]['N'] for i in ddd[b'topic_depth_control']])\n",
    "Td=np.array([i[1]['T'] for i in ddd[b'topic_depth_control']])\n"
   ]
  },
  {
   "cell_type": "code",
   "execution_count": null,
   "id": "805acd09-1174-42c0-984c-d555fdedcf04",
   "metadata": {
    "tags": []
   },
   "outputs": [],
   "source": [
    "#[f for f in ddd[b'topic_tracker']][:3]"
   ]
  },
  {
   "cell_type": "code",
   "execution_count": null,
   "id": "3d558db5-8ede-4a63-8615-4acc5fc7e41a",
   "metadata": {
    "tags": []
   },
   "outputs": [],
   "source": [
    "plt.figure('depth control')\n",
    "ax=plt.subplot(1,1,1)\n",
    "plt.plot(ttags_depth,Nd,alpha=0.8)\n",
    "plt.plot(ttags_depth,Td,alpha=0.8)\n",
    "plt.legend(['N-actual','T-target'])\n",
    "#plt.plot(ttags,cmds.sum(axis=1),alpha=1)\n",
    "plt.show()"
   ]
  },
  {
   "cell_type": "code",
   "execution_count": null,
   "id": "646e2724-4925-47f8-9d60-4d60409a0172",
   "metadata": {
    "tags": []
   },
   "outputs": [],
   "source": [
    "ttagsx=np.array([i[0] for i in ddd[b'topic_pos_hold_pid_0']])\n",
    "ttagsx=ttagsx-start_time\n",
    "Nx=np.array([i[1]['N'] for i in ddd[b'topic_pos_hold_pid_0']])\n",
    "Tx=np.array([i[1]['T'] for i in ddd[b'topic_pos_hold_pid_0']])\n",
    "Rx=np.array([i[1]['R'] for i in ddd[b'topic_pos_hold_pid_0']])\n",
    "\n",
    "ttagsy=np.array([i[0] for i in ddd[b'topic_pos_hold_pid_1']])\n",
    "ttagsy=ttagsy-start_time\n",
    "Ny=np.array([i[1]['N'] for i in ddd[b'topic_pos_hold_pid_1']])\n",
    "Ty=np.array([i[1]['T'] for i in ddd[b'topic_pos_hold_pid_1']])\n",
    "Ry=np.array([i[1]['R'] for i in ddd[b'topic_pos_hold_pid_1']])\n",
    "\n",
    "\n",
    "trange=np.array([i[1]['range'] for i in ddd[b'topic_tracker']])\n",
    "trange_ttags=np.array([i[0] for i in ddd[b'topic_tracker']])\n",
    "trange_ttags=trange_ttags-start_time"
   ]
  },
  {
   "cell_type": "code",
   "execution_count": null,
   "id": "251e5e3e-4a00-4059-b8c7-47b95734cbe6",
   "metadata": {
    "tags": []
   },
   "outputs": [],
   "source": [
    "plt.figure()\n",
    "ax=plt.subplot(1,1,1)\n",
    "plt.plot(ttagsx,Nx,alpha=0.8)\n",
    "plt.plot(ttagsx,Tx,alpha=0.8)\n",
    "plt.plot(ttagsx,Rx,alpha=0.2)\n",
    "plt.plot(trange_ttags,trange,alpha=0.8)\n",
    "plt.plot(ttagsy,Ny,alpha=0.8)\n",
    "\n",
    "plt.legend(['N-actual','T-target','R-rate','range','Ny'])\n",
    "#plt.plot(ttags,cmds.sum(axis=1),alpha=1)\n",
    "plt.show()"
   ]
  },
  {
   "cell_type": "code",
   "execution_count": null,
   "id": "7a9b6b11-e2d8-4792-81ab-e576bd3e98ac",
   "metadata": {},
   "outputs": [],
   "source": [
    "ts_vel=[]\n",
    "ts_pos=[]\n",
    "vel=[]\n",
    "vel_valid=[]\n",
    "covs=[]\n",
    "foms=[]\n",
    "alts=[]\n",
    "pos=[]\n",
    "tr_vels=[[],[],[],[]]\n",
    "tr_dists=[[],[],[],[]]\n",
    "tr_rssi=[[],[],[],[]]\n",
    "tr_nsd=[[],[],[],[]]\n",
    "tr_ts=[]\n",
    "yaws=[]\n",
    "for d in ddd[b'topic_dvl_raw']:\n",
    "    m=parse_line(d[1]['dvl_raw'])\n",
    "    if m and m['type'] in ['vel']:#,'deadreacon']:\n",
    "        ts_vel.append(m['tov']/1e6)\n",
    "        vel.append((m['vx'],m['vy'],m['vz']))\n",
    "        covs.append(m['cov'])\n",
    "        foms.append(m['fom'])\n",
    "        alts.append(m['alt'])\n",
    "        vel_valid.append(m['valid']==b'y')\n",
    "        if m['status']>0:\n",
    "            print(m)\n",
    "    if m and m['type'] in ['deadreacon']:\n",
    "        ts_pos.append(m['time'])\n",
    "        pos.append((m['x'],m['y'],m['z']))\n",
    "        yaws.append(m['yaw'])\n",
    "    if m and m['type'] in ['transducer2']:\n",
    "        #print(m)\n",
    "        tr_vels[int(m['id'])].append(m['velocity'])\n",
    "        tr_dists[int(m['id'])].append(m['distance'])\n",
    "        tr_rssi[int(m['id'])].append(m['rssi'])\n",
    "        tr_nsd[int(m['id'])].append(m['nsd'])\n",
    "        #ts_pos.append(m['time'])\n",
    "        ts=d[1]['ts']\n",
    "        if m['id']==0:\n",
    "            tr_ts.append(ts)\n",
    "        #pos.append((m['x'],m['y'],m['z']))\n",
    "\n",
    "def trim(a):\n",
    "    m=min(map(len,a))\n",
    "    return [i[:m] for i in a]\n",
    "\n",
    "ts_vel=np.array(ts_vel)\n",
    "alts=np.array(alts)\n",
    "vel=np.array(vel)\n",
    "covs=np.array(covs)\n",
    "ts_pos=np.array(ts_pos)\n",
    "start=ts_pos[0]\n",
    "ts_pos-=start\n",
    "ts_vel-=start\n",
    "pos=np.array(pos)\n",
    "foms=np.array(foms)\n",
    "#a1,a2,a3,a4=tr_vels\n",
    "tr_vels=np.array(trim(tr_vels)).T\n",
    "tr_dists=np.array(trim(tr_dists)).T\n",
    "tr_rssi=np.array(trim(tr_rssi)).T\n",
    "tr_nsd=np.array(trim(tr_nsd)).T\n",
    "tr_ts=np.array(tr_ts)\n",
    "_s=tr_ts[0]\n",
    "tr_ts-=_s\n",
    "inds=np.nonzero(vel_valid)[0]"
   ]
  },
  {
   "cell_type": "code",
   "execution_count": null,
   "id": "88ba9fdc-2c3a-4e04-af31-29ad1d5062a7",
   "metadata": {},
   "outputs": [],
   "source": [
    "plt.figure('dvl vels')\n",
    "ax=None\n",
    "for ind in [0,1,2]: #0 for vx 1 for vy 2 for vz\n",
    "    ax=plt.subplot(3,1,ind+1,sharex=ax)\n",
    "    plt.title('v'+'xyz'[ind])\n",
    "    plt.plot(ts_vel[inds],vel[inds][:,ind],'-b')\n",
    "#plt.plot(ts_pos,yaws,'+-b')\n"
   ]
  },
  {
   "cell_type": "code",
   "execution_count": null,
   "id": "3c16e6a0-d975-4722-963a-2ebf7d745e42",
   "metadata": {},
   "outputs": [],
   "source": [
    "plt.figure('dvl alts')\n",
    "ax=None\n",
    "ax=plt.subplot(2,1,1,sharex=ax)\n",
    "plt.plot(ts_vel[inds],alts[inds],'-b')\n",
    "ax=plt.subplot(2,1,2,sharex=ax)\n",
    "plt.plot(ttags_depth,Nd,'-g')\n",
    "plt.show()\n",
    "#plt.plot(ts_pos,yaws,'+-b')"
   ]
  },
  {
   "cell_type": "code",
   "execution_count": null,
   "id": "6ef0adb9-4271-4e7a-8849-355ae6a23132",
   "metadata": {},
   "outputs": [],
   "source": []
  },
  {
   "cell_type": "code",
   "execution_count": null,
   "id": "e0c076fb-92eb-4054-9cad-307aab97917e",
   "metadata": {},
   "outputs": [],
   "source": []
  }
 ],
 "metadata": {
  "kernelspec": {
   "display_name": "Python 3 (ipykernel)",
   "language": "python",
   "name": "python3"
  },
  "language_info": {
   "codemirror_mode": {
    "name": "ipython",
    "version": 3
   },
   "file_extension": ".py",
   "mimetype": "text/x-python",
   "name": "python",
   "nbconvert_exporter": "python",
   "pygments_lexer": "ipython3",
   "version": "3.10.6"
  }
 },
 "nbformat": 4,
 "nbformat_minor": 5
}
