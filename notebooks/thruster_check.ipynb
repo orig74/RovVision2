{
 "cells": [
  {
   "cell_type": "code",
   "execution_count": null,
   "id": "2b177c87",
   "metadata": {},
   "outputs": [],
   "source": [
    "%matplotlib widget\n",
    "import numpy as np\n",
    "import matplotlib.pyplot as plt\n",
    "import pickle\n",
    "import sys,os\n",
    "#import pandas as pd"
   ]
  },
  {
   "cell_type": "code",
   "execution_count": null,
   "id": "987e27b8",
   "metadata": {},
   "outputs": [],
   "source": [
    "hw_path=os.path.abspath('../hw')\n",
    "if hw_path not in sys.path:\n",
    "    sys.path.append(hw_path)\n",
    "#from dvl import parse_line"
   ]
  },
  {
   "cell_type": "code",
   "execution_count": null,
   "id": "12da1097",
   "metadata": {},
   "outputs": [],
   "source": [
    "\n",
    "#data_file='../../data2/230414-121529/viewer_data.pkl'\n",
    "data_file='../../data2/230414-120105/viewer_data.pkl'\n",
    "\n",
    "#fd=open(data_file,'rb')\n",
    "!ls -all -h $data_file\n",
    "!ls ../../data2"
   ]
  },
  {
   "cell_type": "code",
   "execution_count": null,
   "id": "338e4a75",
   "metadata": {},
   "outputs": [],
   "source": [
    "keys=set()\n",
    "thruster_cmd=[]\n",
    "with open(data_file,'rb') as fd:\n",
    "    while 1:\n",
    "        try:\n",
    "            d=pickle.load(fd)\n",
    "            keys.add(d[0])\n",
    "            if d[0]==b'thruster_cmd':\n",
    "                thruster_cmd.append(d[1:])\n",
    "        except EOFError:\n",
    "            break\n",
    "print(keys)\n",
    "    "
   ]
  },
  {
   "cell_type": "code",
   "execution_count": null,
   "id": "535ec0f6",
   "metadata": {},
   "outputs": [],
   "source": [
    "ttags=np.array([i[1][0] for i in thruster_cmd])\n",
    "start_time=ttags[0]\n",
    "ttags=ttags-start_time\n",
    "cmds=np.array([i[1][1] for i in thruster_cmd])"
   ]
  },
  {
   "cell_type": "code",
   "execution_count": null,
   "id": "fc1fc734",
   "metadata": {},
   "outputs": [],
   "source": [
    "plt.figure()\n",
    "ax=plt.subplot(1,1,1)\n",
    "plt.plot(ttags,cmds[:,:]+np.linspace(0,0.05,8),alpha=0.5)\n",
    "#plt.plot(ttags,cmds.sum(axis=1),alpha=1)\n",
    "plt.show()"
   ]
  },
  {
   "cell_type": "code",
   "execution_count": null,
   "id": "0762db72",
   "metadata": {},
   "outputs": [],
   "source": [
    "np.set_printoptions(precision=4)\n",
    "cmds[-50:,:]"
   ]
  },
  {
   "cell_type": "code",
   "execution_count": null,
   "id": "ce9bf13b",
   "metadata": {},
   "outputs": [],
   "source": []
  }
 ],
 "metadata": {
  "kernelspec": {
   "display_name": "Python 3 (ipykernel)",
   "language": "python",
   "name": "python3"
  },
  "language_info": {
   "codemirror_mode": {
    "name": "ipython",
    "version": 3
   },
   "file_extension": ".py",
   "mimetype": "text/x-python",
   "name": "python",
   "nbconvert_exporter": "python",
   "pygments_lexer": "ipython3",
   "version": "3.10.9"
  }
 },
 "nbformat": 4,
 "nbformat_minor": 5
}
